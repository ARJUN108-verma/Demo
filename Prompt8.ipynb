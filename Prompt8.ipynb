{
  "nbformat": 4,
  "nbformat_minor": 0,
  "metadata": {
    "colab": {
      "provenance": [],
      "toc_visible": true,
      "authorship_tag": "ABX9TyPKWQc/ht0kjFGhqm0TmjG9",
      "include_colab_link": true
    },
    "kernelspec": {
      "name": "python3",
      "display_name": "Python 3"
    },
    "language_info": {
      "name": "python"
    }
  },
  "cells": [
    {
      "cell_type": "markdown",
      "metadata": {
        "id": "view-in-github",
        "colab_type": "text"
      },
      "source": [
        "<a href=\"https://colab.research.google.com/github/ARJUN108-verma/Demo/blob/main/Prompt8.ipynb\" target=\"_parent\"><img src=\"https://colab.research.google.com/assets/colab-badge.svg\" alt=\"Open In Colab\"/></a>"
      ]
    },
    {
      "cell_type": "markdown",
      "source": [
        "Problem Statement:\n",
        "Create prompts that inspire creative writing, such as short stories or poems, using AI models.\n"
      ],
      "metadata": {
        "id": "jb3dleZgCxia"
      }
    },
    {
      "cell_type": "code",
      "source": [
        "print(\"solution : \")"
      ],
      "metadata": {
        "colab": {
          "base_uri": "https://localhost:8080/"
        },
        "id": "oRz38NqbDNgb",
        "outputId": "a49d7ebf-c2c2-4d87-8149-630537d4181a"
      },
      "execution_count": 26,
      "outputs": [
        {
          "output_type": "stream",
          "name": "stdout",
          "text": [
            "solution : \n"
          ]
        }
      ]
    },
    {
      "cell_type": "code",
      "source": [
        "import random\n"
      ],
      "metadata": {
        "id": "o5V49QabDRAo"
      },
      "execution_count": 27,
      "outputs": []
    },
    {
      "cell_type": "code",
      "source": [
        "# Data banks for prompt parts\n",
        "themes = [\n",
        "    \"love\", \"loss\", \"freedom\", \"time\", \"magic\", \"identity\", \"betrayal\", \"redemption\",\n",
        "    \"hope\", \"dreams\", \"revenge\", \"mystery\", \"nature\", \"chaos\", \"rebirth\"\n",
        "]"
      ],
      "metadata": {
        "id": "B4l5DPWfDY37"
      },
      "execution_count": 28,
      "outputs": []
    },
    {
      "cell_type": "code",
      "source": [
        "settings = [\n",
        "    \"a war-torn kingdom\", \"an enchanted forest\", \"a distant future Earth\",\n",
        "    \"a crumbling library\", \"a hidden underwater city\", \"the edge of the universe\",\n",
        "    \"a timeless desert\", \"an abandoned train station\", \"a haunted moon base\"\n",
        "]"
      ],
      "metadata": {
        "id": "lSVdKfqJDmOK"
      },
      "execution_count": 29,
      "outputs": []
    },
    {
      "cell_type": "code",
      "source": [
        "characters = [\n",
        "    \"a grieving knight\", \"a rebellious teenager\", \"a robot learning emotions\",\n",
        "    \"a ghost who doesn’t know they’re dead\", \"a queen with a dangerous secret\",\n",
        "    \"a painter who dreams in colors no one else can see\", \"a cat with a human soul\",\n",
        "    \"a time-traveling musician\", \"a boy made of shadows\"\n",
        "]"
      ],
      "metadata": {
        "id": "BAOVoaFkDnox"
      },
      "execution_count": 30,
      "outputs": []
    },
    {
      "cell_type": "code",
      "source": [
        "styles = [\"short story\", \"poem\", \"flash fiction\", \"haiku\", \"narrative prose\"]"
      ],
      "metadata": {
        "id": "BFvsDpZQDueh"
      },
      "execution_count": 31,
      "outputs": []
    },
    {
      "cell_type": "code",
      "source": [
        "twists = [\n",
        "    \"with a twist ending\", \"told in reverse\", \"written as a diary entry\",\n",
        "    \"from the perspective of the villain\", \"without using the letter 'e'\",\n",
        "    \"revealing a secret at the end\", \"as a conversation between strangers\"\n",
        "]"
      ],
      "metadata": {
        "id": "jLNzir19Dyyw"
      },
      "execution_count": 32,
      "outputs": []
    },
    {
      "cell_type": "code",
      "source": [
        "# Prompt generator\n",
        "def generate_creative_prompt():\n",
        "    theme = random.choice(themes)\n",
        "    setting = random.choice(settings)\n",
        "    character = random.choice(characters)\n",
        "    style = random.choice(styles)\n",
        "    twist = random.choice(twists)\n",
        "\n",
        "    prompt = (f\"Write a {style} about {theme}, set in {setting}, featuring {character}, \"\n",
        "              f\"{twist}.\")\n",
        "    return prompt"
      ],
      "metadata": {
        "id": "N5yC6tfZD3Qx"
      },
      "execution_count": 33,
      "outputs": []
    },
    {
      "cell_type": "code",
      "source": [
        "# Main program\n",
        "if __name__ == \"__main__\":\n",
        "    print(\"🎨 Creative Writing Prompts Generator 🎨\\n\")\n",
        "    for i in range(5):\n",
        "        print(f\"Prompt {i+1}: {generate_creative_prompt()}\\n\")"
      ],
      "metadata": {
        "colab": {
          "base_uri": "https://localhost:8080/"
        },
        "id": "C3awhYSgD755",
        "outputId": "7095c95a-b079-409b-d8f0-ce231b6cb303"
      },
      "execution_count": 34,
      "outputs": [
        {
          "output_type": "stream",
          "name": "stdout",
          "text": [
            "🎨 Creative Writing Prompts Generator 🎨\n",
            "\n",
            "Prompt 1: Write a flash fiction about identity, set in a war-torn kingdom, featuring a rebellious teenager, with a twist ending.\n",
            "\n",
            "Prompt 2: Write a flash fiction about identity, set in a hidden underwater city, featuring a grieving knight, revealing a secret at the end.\n",
            "\n",
            "Prompt 3: Write a poem about magic, set in an enchanted forest, featuring a cat with a human soul, written as a diary entry.\n",
            "\n",
            "Prompt 4: Write a flash fiction about nature, set in a haunted moon base, featuring a robot learning emotions, with a twist ending.\n",
            "\n",
            "Prompt 5: Write a haiku about identity, set in a timeless desert, featuring a cat with a human soul, written as a diary entry.\n",
            "\n"
          ]
        }
      ]
    }
  ]
}
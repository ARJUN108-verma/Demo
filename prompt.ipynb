{
  "nbformat": 4,
  "nbformat_minor": 0,
  "metadata": {
    "colab": {
      "provenance": [],
      "authorship_tag": "ABX9TyN6q7qv64EVkY3OKOM2jq6L",
      "include_colab_link": true
    },
    "kernelspec": {
      "name": "python3",
      "display_name": "Python 3"
    },
    "language_info": {
      "name": "python"
    }
  },
  "cells": [
    {
      "cell_type": "markdown",
      "metadata": {
        "id": "view-in-github",
        "colab_type": "text"
      },
      "source": [
        "<a href=\"https://colab.research.google.com/github/ARJUN108-verma/Demo/blob/main/prompt.ipynb\" target=\"_parent\"><img src=\"https://colab.research.google.com/assets/colab-badge.svg\" alt=\"Open In Colab\"/></a>"
      ]
    },
    {
      "cell_type": "code",
      "execution_count": 13,
      "metadata": {
        "id": "POiO5_F19Jhp"
      },
      "outputs": [],
      "source": []
    },
    {
      "cell_type": "markdown",
      "source": [
        "Problem Statement:\n",
        "Design prompts that allow AI models to solve basic mathematical problems."
      ],
      "metadata": {
        "id": "--kKZGYA9O-X"
      }
    },
    {
      "cell_type": "code",
      "source": [
        "print(\"solution are :\")"
      ],
      "metadata": {
        "colab": {
          "base_uri": "https://localhost:8080/"
        },
        "id": "8aKRMC4k9UXV",
        "outputId": "7b80858b-8765-4737-8d6a-21250fdff0dd"
      },
      "execution_count": 14,
      "outputs": [
        {
          "output_type": "stream",
          "name": "stdout",
          "text": [
            "solution are :\n"
          ]
        }
      ]
    },
    {
      "cell_type": "code",
      "source": [
        "import random"
      ],
      "metadata": {
        "id": "bZ6Shuwz_zzj"
      },
      "execution_count": 15,
      "outputs": []
    },
    {
      "cell_type": "code",
      "source": [
        "# Arithmetic operations\n",
        "def generate_arithmetic_prompt():\n",
        "    a = random.randint(1, 100)\n",
        "    b = random.randint(1, 100)\n",
        "    op = random.choice(['+', '-', '*', '/'])\n",
        "    if op == '+':\n",
        "        return f\"What is the result of {a} + {b}?\"\n",
        "    elif op == '-':\n",
        "        return f\"What is the result of {a} - {b}?\"\n",
        "    elif op == '*':\n",
        "        return f\"What is the result of {a} × {b}?\"\n",
        "    else:\n",
        "        b = b or 1  # avoid division by zero\n",
        "        return f\"What is the result of {a} ÷ {b}?\""
      ],
      "metadata": {
        "id": "ntg7Z709_sMy"
      },
      "execution_count": 16,
      "outputs": []
    },
    {
      "cell_type": "code",
      "source": [
        "# Word problems\n",
        "def generate_word_problem_prompt():\n",
        "    name = random.choice(['Alex', 'Jordan', 'Taylor', 'Casey'])\n",
        "    total = random.randint(10, 50)\n",
        "    given = random.randint(1, total - 1)\n",
        "    return f\"{name} has {total} apples. They give {given} to a friend. How many apples are left?\""
      ],
      "metadata": {
        "id": "AL5C5aW0_1lb"
      },
      "execution_count": 17,
      "outputs": []
    },
    {
      "cell_type": "code",
      "source": [
        "# Fractions\n",
        "def generate_fraction_prompt():\n",
        "    whole = random.randint(10, 50)\n",
        "    numerator = random.randint(1, 4)\n",
        "    denominator = random.choice([2, 3, 4, 5])\n",
        "    return f\"What is {numerator}/{denominator} of {whole}?\""
      ],
      "metadata": {
        "id": "sAGBtUdcALkD"
      },
      "execution_count": 18,
      "outputs": []
    },
    {
      "cell_type": "code",
      "source": [
        "# Decimals\n",
        "def generate_decimal_prompt():\n",
        "    a = round(random.uniform(1, 10), 2)\n",
        "    b = round(random.uniform(1, 10), 2)\n",
        "    return f\"Add {a} and {b}.\""
      ],
      "metadata": {
        "id": "dOvh1cClAXZK"
      },
      "execution_count": 19,
      "outputs": []
    },
    {
      "cell_type": "code",
      "source": [
        "# Simple algebra\n",
        "def generate_algebra_prompt():\n",
        "    x = random.randint(1, 10)\n",
        "    multiplier = random.randint(1, 5)\n",
        "    result = multiplier * x + 5\n",
        "    return f\"Solve for x: {multiplier}x + 5 = {result}\""
      ],
      "metadata": {
        "id": "V2VWpe9zAYd6"
      },
      "execution_count": 20,
      "outputs": []
    },
    {
      "cell_type": "code",
      "source": [
        "# Geometry\n",
        "def generate_geometry_prompt():\n",
        "    length = random.randint(1, 20)\n",
        "    width = random.randint(1, 20)\n",
        "    return f\"A rectangle has a length of {length} cm and a width of {width} cm. What is its area?\""
      ],
      "metadata": {
        "id": "mqqMloX1AdHy"
      },
      "execution_count": 21,
      "outputs": []
    },
    {
      "cell_type": "code",
      "source": [
        "# Time problems\n",
        "def generate_time_prompt():\n",
        "    hour = random.randint(1, 10)\n",
        "    minute = random.choice([0, 15, 30, 45])\n",
        "    duration_hr = random.randint(1, 3)\n",
        "    duration_min = random.choice([0, 15, 30, 45])\n",
        "    return (f\"If a movie starts at {hour}:{minute:02d} PM and lasts for \"\n",
        "            f\"{duration_hr} hours and {duration_min} minutes, what time does it end?\")"
      ],
      "metadata": {
        "id": "qq5Oe08CAlQz"
      },
      "execution_count": 22,
      "outputs": []
    },
    {
      "cell_type": "code",
      "source": [
        "# Main function to generate a random prompt\n",
        "def generate_math_prompt():\n",
        "    prompt_generators = [\n",
        "        generate_arithmetic_prompt,\n",
        "        generate_word_problem_prompt,\n",
        "        generate_fraction_prompt,\n",
        "        generate_decimal_prompt,\n",
        "        generate_algebra_prompt,\n",
        "        generate_geometry_prompt,\n",
        "        generate_time_prompt\n",
        "    ]\n",
        "    return random.choice(prompt_generators)()"
      ],
      "metadata": {
        "id": "UxfizNPkAsOa"
      },
      "execution_count": 23,
      "outputs": []
    },
    {
      "cell_type": "code",
      "source": [
        "# Example: Generate 5 sample prompts\n",
        "if __name__ == \"__main__\":\n",
        "    for _ in range(5):\n",
        "        print(generate_math_prompt())"
      ],
      "metadata": {
        "colab": {
          "base_uri": "https://localhost:8080/"
        },
        "id": "7Exxlc8xA1wM",
        "outputId": "b00257db-58c9-40ea-d1c4-8e2ab3d6e67f"
      },
      "execution_count": 24,
      "outputs": [
        {
          "output_type": "stream",
          "name": "stdout",
          "text": [
            "A rectangle has a length of 20 cm and a width of 12 cm. What is its area?\n",
            "If a movie starts at 2:00 PM and lasts for 2 hours and 45 minutes, what time does it end?\n",
            "Alex has 15 apples. They give 1 to a friend. How many apples are left?\n",
            "What is 3/4 of 49?\n",
            "Casey has 13 apples. They give 1 to a friend. How many apples are left?\n"
          ]
        }
      ]
    }
  ]
}
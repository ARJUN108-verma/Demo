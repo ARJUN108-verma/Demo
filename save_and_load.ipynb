{
  "cells": [
    {
      "cell_type": "markdown",
      "metadata": {
        "id": "view-in-github",
        "colab_type": "text"
      },
      "source": [
        "<a href=\"https://colab.research.google.com/github/ARJUN108-verma/Demo/blob/main/save_and_load.ipynb\" target=\"_parent\"><img src=\"https://colab.research.google.com/assets/colab-badge.svg\" alt=\"Open In Colab\"/></a>"
      ]
    },
    {
      "cell_type": "code",
      "execution_count": 19,
      "metadata": {
        "colab": {
          "base_uri": "https://localhost:8080/"
        },
        "id": "Wy4F1BsorJ2Y",
        "outputId": "d3d72ab8-f043-4ef8-83f6-011197420117"
      },
      "outputs": [
        {
          "output_type": "stream",
          "name": "stdout",
          "text": [
            "save_and_overfit\n"
          ]
        }
      ],
      "source": [
        "print(\"save_and_overfit\")"
      ]
    },
    {
      "cell_type": "markdown",
      "source": [
        "setup"
      ],
      "metadata": {
        "id": "V_22v824s08W"
      }
    },
    {
      "cell_type": "code",
      "source": [
        "import os\n",
        "\n",
        "import tensorflow as tf\n",
        "from tensorflow import keras\n",
        "\n",
        "print(tf.version.VERSION)"
      ],
      "metadata": {
        "colab": {
          "base_uri": "https://localhost:8080/"
        },
        "id": "z9r6iwoMs2kk",
        "outputId": "377c0abd-d885-43a5-e300-b07462fa4cac"
      },
      "execution_count": 20,
      "outputs": [
        {
          "output_type": "stream",
          "name": "stdout",
          "text": [
            "2.18.0\n"
          ]
        }
      ]
    },
    {
      "cell_type": "markdown",
      "source": [
        "get dataset"
      ],
      "metadata": {
        "id": "AKGGlxxkwgSH"
      }
    },
    {
      "cell_type": "code",
      "source": [
        "(train_images, train_labels), (test_images, test_labels) = tf.keras.datasets.mnist.load_data()\n",
        "\n",
        "train_labels = train_labels[:1000]\n",
        "test_labels = test_labels[:1000]\n",
        "\n",
        "train_images = train_images[:1000].reshape(-1, 28 * 28)/255.0\n",
        "test_images = test_images[:1000].reshape(-1, 28 * 28)/255.0\n"
      ],
      "metadata": {
        "id": "5Vbk0mEUwiqv"
      },
      "execution_count": 21,
      "outputs": []
    },
    {
      "cell_type": "markdown",
      "source": [
        "Define a Model"
      ],
      "metadata": {
        "id": "JHWXfnTUyqwa"
      }
    },
    {
      "cell_type": "code",
      "source": [
        "from pickle import TRUE\n",
        "#Define a simple sequential model\n",
        "def create_model():\n",
        "  model = tf.keras.Sequential([\n",
        "      keras.layers.Dense(512, activation = 'relu', input_shape = (784,)),\n",
        "      keras.layers.Dropout(0.2),\n",
        "      keras.layers.Dense(10)\n",
        "  ])\n",
        "\n",
        "  model.compile(optimizer = 'adam',\n",
        "                loss = tf.keras.losses.SparseCategoricalCrossentropy(from_logits= TRUE),\n",
        "                metrics = [tf.keras.metrics.SparseCategoricalAccuracy()])\n",
        "  return model"
      ],
      "metadata": {
        "id": "avI1AEdIytqg"
      },
      "execution_count": 22,
      "outputs": []
    },
    {
      "cell_type": "code",
      "source": [
        "#create a basic model instance\n",
        "model = create_model()\n",
        "\n",
        "#Display the architecture of model\n",
        "model.summary()"
      ],
      "metadata": {
        "colab": {
          "base_uri": "https://localhost:8080/",
          "height": 293
        },
        "id": "GeMeif_C0NjC",
        "outputId": "945e344e-5437-4d8c-8513-4b0590dc5c2e"
      },
      "execution_count": 23,
      "outputs": [
        {
          "output_type": "stream",
          "name": "stderr",
          "text": [
            "/usr/local/lib/python3.11/dist-packages/keras/src/layers/core/dense.py:87: UserWarning: Do not pass an `input_shape`/`input_dim` argument to a layer. When using Sequential models, prefer using an `Input(shape)` object as the first layer in the model instead.\n",
            "  super().__init__(activity_regularizer=activity_regularizer, **kwargs)\n"
          ]
        },
        {
          "output_type": "display_data",
          "data": {
            "text/plain": [
              "\u001b[1mModel: \"sequential_1\"\u001b[0m\n"
            ],
            "text/html": [
              "<pre style=\"white-space:pre;overflow-x:auto;line-height:normal;font-family:Menlo,'DejaVu Sans Mono',consolas,'Courier New',monospace\"><span style=\"font-weight: bold\">Model: \"sequential_1\"</span>\n",
              "</pre>\n"
            ]
          },
          "metadata": {}
        },
        {
          "output_type": "display_data",
          "data": {
            "text/plain": [
              "┏━━━━━━━━━━━━━━━━━━━━━━━━━━━━━━━━━━━━━━┳━━━━━━━━━━━━━━━━━━━━━━━━━━━━━┳━━━━━━━━━━━━━━━━━┓\n",
              "┃\u001b[1m \u001b[0m\u001b[1mLayer (type)                        \u001b[0m\u001b[1m \u001b[0m┃\u001b[1m \u001b[0m\u001b[1mOutput Shape               \u001b[0m\u001b[1m \u001b[0m┃\u001b[1m \u001b[0m\u001b[1m        Param #\u001b[0m\u001b[1m \u001b[0m┃\n",
              "┡━━━━━━━━━━━━━━━━━━━━━━━━━━━━━━━━━━━━━━╇━━━━━━━━━━━━━━━━━━━━━━━━━━━━━╇━━━━━━━━━━━━━━━━━┩\n",
              "│ dense_2 (\u001b[38;5;33mDense\u001b[0m)                      │ (\u001b[38;5;45mNone\u001b[0m, \u001b[38;5;34m512\u001b[0m)                 │         \u001b[38;5;34m401,920\u001b[0m │\n",
              "├──────────────────────────────────────┼─────────────────────────────┼─────────────────┤\n",
              "│ dropout_1 (\u001b[38;5;33mDropout\u001b[0m)                  │ (\u001b[38;5;45mNone\u001b[0m, \u001b[38;5;34m512\u001b[0m)                 │               \u001b[38;5;34m0\u001b[0m │\n",
              "├──────────────────────────────────────┼─────────────────────────────┼─────────────────┤\n",
              "│ dense_3 (\u001b[38;5;33mDense\u001b[0m)                      │ (\u001b[38;5;45mNone\u001b[0m, \u001b[38;5;34m10\u001b[0m)                  │           \u001b[38;5;34m5,130\u001b[0m │\n",
              "└──────────────────────────────────────┴─────────────────────────────┴─────────────────┘\n"
            ],
            "text/html": [
              "<pre style=\"white-space:pre;overflow-x:auto;line-height:normal;font-family:Menlo,'DejaVu Sans Mono',consolas,'Courier New',monospace\">┏━━━━━━━━━━━━━━━━━━━━━━━━━━━━━━━━━━━━━━┳━━━━━━━━━━━━━━━━━━━━━━━━━━━━━┳━━━━━━━━━━━━━━━━━┓\n",
              "┃<span style=\"font-weight: bold\"> Layer (type)                         </span>┃<span style=\"font-weight: bold\"> Output Shape                </span>┃<span style=\"font-weight: bold\">         Param # </span>┃\n",
              "┡━━━━━━━━━━━━━━━━━━━━━━━━━━━━━━━━━━━━━━╇━━━━━━━━━━━━━━━━━━━━━━━━━━━━━╇━━━━━━━━━━━━━━━━━┩\n",
              "│ dense_2 (<span style=\"color: #0087ff; text-decoration-color: #0087ff\">Dense</span>)                      │ (<span style=\"color: #00d7ff; text-decoration-color: #00d7ff\">None</span>, <span style=\"color: #00af00; text-decoration-color: #00af00\">512</span>)                 │         <span style=\"color: #00af00; text-decoration-color: #00af00\">401,920</span> │\n",
              "├──────────────────────────────────────┼─────────────────────────────┼─────────────────┤\n",
              "│ dropout_1 (<span style=\"color: #0087ff; text-decoration-color: #0087ff\">Dropout</span>)                  │ (<span style=\"color: #00d7ff; text-decoration-color: #00d7ff\">None</span>, <span style=\"color: #00af00; text-decoration-color: #00af00\">512</span>)                 │               <span style=\"color: #00af00; text-decoration-color: #00af00\">0</span> │\n",
              "├──────────────────────────────────────┼─────────────────────────────┼─────────────────┤\n",
              "│ dense_3 (<span style=\"color: #0087ff; text-decoration-color: #0087ff\">Dense</span>)                      │ (<span style=\"color: #00d7ff; text-decoration-color: #00d7ff\">None</span>, <span style=\"color: #00af00; text-decoration-color: #00af00\">10</span>)                  │           <span style=\"color: #00af00; text-decoration-color: #00af00\">5,130</span> │\n",
              "└──────────────────────────────────────┴─────────────────────────────┴─────────────────┘\n",
              "</pre>\n"
            ]
          },
          "metadata": {}
        },
        {
          "output_type": "display_data",
          "data": {
            "text/plain": [
              "\u001b[1m Total params: \u001b[0m\u001b[38;5;34m407,050\u001b[0m (1.55 MB)\n"
            ],
            "text/html": [
              "<pre style=\"white-space:pre;overflow-x:auto;line-height:normal;font-family:Menlo,'DejaVu Sans Mono',consolas,'Courier New',monospace\"><span style=\"font-weight: bold\"> Total params: </span><span style=\"color: #00af00; text-decoration-color: #00af00\">407,050</span> (1.55 MB)\n",
              "</pre>\n"
            ]
          },
          "metadata": {}
        },
        {
          "output_type": "display_data",
          "data": {
            "text/plain": [
              "\u001b[1m Trainable params: \u001b[0m\u001b[38;5;34m407,050\u001b[0m (1.55 MB)\n"
            ],
            "text/html": [
              "<pre style=\"white-space:pre;overflow-x:auto;line-height:normal;font-family:Menlo,'DejaVu Sans Mono',consolas,'Courier New',monospace\"><span style=\"font-weight: bold\"> Trainable params: </span><span style=\"color: #00af00; text-decoration-color: #00af00\">407,050</span> (1.55 MB)\n",
              "</pre>\n"
            ]
          },
          "metadata": {}
        },
        {
          "output_type": "display_data",
          "data": {
            "text/plain": [
              "\u001b[1m Non-trainable params: \u001b[0m\u001b[38;5;34m0\u001b[0m (0.00 B)\n"
            ],
            "text/html": [
              "<pre style=\"white-space:pre;overflow-x:auto;line-height:normal;font-family:Menlo,'DejaVu Sans Mono',consolas,'Courier New',monospace\"><span style=\"font-weight: bold\"> Non-trainable params: </span><span style=\"color: #00af00; text-decoration-color: #00af00\">0</span> (0.00 B)\n",
              "</pre>\n"
            ]
          },
          "metadata": {}
        }
      ]
    },
    {
      "cell_type": "markdown",
      "source": [
        "Checkpoint callback usage"
      ],
      "metadata": {
        "id": "Tlr4qb2x00tU"
      }
    },
    {
      "cell_type": "code",
      "source": [
        "import tensorflow as tf\n",
        "\n",
        "# Correcting the file path to follow Keras' requirement\n",
        "checkpoint_path = \"training_1/cp.weights.h5\"  # Ensure the filename ends with .weights.h5\n",
        "\n",
        "# Create a callback that saves the model's weights\n",
        "cp_callback = tf.keras.callbacks.ModelCheckpoint(\n",
        "    filepath=checkpoint_path,\n",
        "    save_weights_only=True,  # Saving only the weights\n",
        "    verbose=1\n",
        ")\n",
        "\n",
        "\n",
        "# Train the model with the new callback\n",
        "model.fit(train_images,\n",
        "          train_labels,\n",
        "          epochs=10,\n",
        "          validation_data=(test_images, test_labels),\n",
        "          callbacks=[cp_callback])  # Pass callback to training\n",
        "\n",
        "# This may generate warnings related to saving the state of the optimizer.\n",
        "# These warnings (and similar warnings throughout this notebook)\n",
        "# are in place to discourage outdated usage, and can be ignored."
      ],
      "metadata": {
        "colab": {
          "base_uri": "https://localhost:8080/"
        },
        "id": "DYnx1smA65ny",
        "outputId": "f255c9df-ffa7-4b74-ea6c-066b7f3bfe40"
      },
      "execution_count": 25,
      "outputs": [
        {
          "output_type": "stream",
          "name": "stdout",
          "text": [
            "Epoch 1/10\n",
            "\u001b[1m26/32\u001b[0m \u001b[32m━━━━━━━━━━━━━━━━\u001b[0m\u001b[37m━━━━\u001b[0m \u001b[1m0s\u001b[0m 9ms/step - loss: 1.7277 - sparse_categorical_accuracy: 0.4571\n",
            "Epoch 1: saving model to training_1/cp.weights.h5\n",
            "\u001b[1m32/32\u001b[0m \u001b[32m━━━━━━━━━━━━━━━━━━━━\u001b[0m\u001b[37m\u001b[0m \u001b[1m2s\u001b[0m 24ms/step - loss: 1.6122 - sparse_categorical_accuracy: 0.5020 - val_loss: 0.7219 - val_sparse_categorical_accuracy: 0.7950\n",
            "Epoch 2/10\n",
            "\u001b[1m28/32\u001b[0m \u001b[32m━━━━━━━━━━━━━━━━━\u001b[0m\u001b[37m━━━\u001b[0m \u001b[1m0s\u001b[0m 8ms/step - loss: 0.4665 - sparse_categorical_accuracy: 0.8732\n",
            "Epoch 2: saving model to training_1/cp.weights.h5\n",
            "\u001b[1m32/32\u001b[0m \u001b[32m━━━━━━━━━━━━━━━━━━━━\u001b[0m\u001b[37m\u001b[0m \u001b[1m1s\u001b[0m 15ms/step - loss: 0.4611 - sparse_categorical_accuracy: 0.8734 - val_loss: 0.5481 - val_sparse_categorical_accuracy: 0.8360\n",
            "Epoch 3/10\n",
            "\u001b[1m29/32\u001b[0m \u001b[32m━━━━━━━━━━━━━━━━━━\u001b[0m\u001b[37m━━\u001b[0m \u001b[1m0s\u001b[0m 8ms/step - loss: 0.2849 - sparse_categorical_accuracy: 0.9456\n",
            "Epoch 3: saving model to training_1/cp.weights.h5\n",
            "\u001b[1m32/32\u001b[0m \u001b[32m━━━━━━━━━━━━━━━━━━━━\u001b[0m\u001b[37m\u001b[0m \u001b[1m1s\u001b[0m 15ms/step - loss: 0.2847 - sparse_categorical_accuracy: 0.9446 - val_loss: 0.5088 - val_sparse_categorical_accuracy: 0.8410\n",
            "Epoch 4/10\n",
            "\u001b[1m29/32\u001b[0m \u001b[32m━━━━━━━━━━━━━━━━━━\u001b[0m\u001b[37m━━\u001b[0m \u001b[1m0s\u001b[0m 8ms/step - loss: 0.2103 - sparse_categorical_accuracy: 0.9522\n",
            "Epoch 4: saving model to training_1/cp.weights.h5\n",
            "\u001b[1m32/32\u001b[0m \u001b[32m━━━━━━━━━━━━━━━━━━━━\u001b[0m\u001b[37m\u001b[0m \u001b[1m1s\u001b[0m 16ms/step - loss: 0.2116 - sparse_categorical_accuracy: 0.9520 - val_loss: 0.4468 - val_sparse_categorical_accuracy: 0.8470\n",
            "Epoch 5/10\n",
            "\u001b[1m30/32\u001b[0m \u001b[32m━━━━━━━━━━━━━━━━━━\u001b[0m\u001b[37m━━\u001b[0m \u001b[1m0s\u001b[0m 12ms/step - loss: 0.1980 - sparse_categorical_accuracy: 0.9597\n",
            "Epoch 5: saving model to training_1/cp.weights.h5\n",
            "\u001b[1m32/32\u001b[0m \u001b[32m━━━━━━━━━━━━━━━━━━━━\u001b[0m\u001b[37m\u001b[0m \u001b[1m1s\u001b[0m 26ms/step - loss: 0.1947 - sparse_categorical_accuracy: 0.9604 - val_loss: 0.4371 - val_sparse_categorical_accuracy: 0.8570\n",
            "Epoch 6/10\n",
            "\u001b[1m32/32\u001b[0m \u001b[32m━━━━━━━━━━━━━━━━━━━━\u001b[0m\u001b[37m\u001b[0m \u001b[1m0s\u001b[0m 12ms/step - loss: 0.1185 - sparse_categorical_accuracy: 0.9747\n",
            "Epoch 6: saving model to training_1/cp.weights.h5\n",
            "\u001b[1m32/32\u001b[0m \u001b[32m━━━━━━━━━━━━━━━━━━━━\u001b[0m\u001b[37m\u001b[0m \u001b[1m1s\u001b[0m 26ms/step - loss: 0.1186 - sparse_categorical_accuracy: 0.9748 - val_loss: 0.4347 - val_sparse_categorical_accuracy: 0.8580\n",
            "Epoch 7/10\n",
            "\u001b[1m28/32\u001b[0m \u001b[32m━━━━━━━━━━━━━━━━━\u001b[0m\u001b[37m━━━\u001b[0m \u001b[1m0s\u001b[0m 8ms/step - loss: 0.0817 - sparse_categorical_accuracy: 0.9928\n",
            "Epoch 7: saving model to training_1/cp.weights.h5\n",
            "\u001b[1m32/32\u001b[0m \u001b[32m━━━━━━━━━━━━━━━━━━━━\u001b[0m\u001b[37m\u001b[0m \u001b[1m1s\u001b[0m 14ms/step - loss: 0.0818 - sparse_categorical_accuracy: 0.9919 - val_loss: 0.4102 - val_sparse_categorical_accuracy: 0.8660\n",
            "Epoch 8/10\n",
            "\u001b[1m29/32\u001b[0m \u001b[32m━━━━━━━━━━━━━━━━━━\u001b[0m\u001b[37m━━\u001b[0m \u001b[1m0s\u001b[0m 8ms/step - loss: 0.0735 - sparse_categorical_accuracy: 0.9912\n",
            "Epoch 8: saving model to training_1/cp.weights.h5\n",
            "\u001b[1m32/32\u001b[0m \u001b[32m━━━━━━━━━━━━━━━━━━━━\u001b[0m\u001b[37m\u001b[0m \u001b[1m0s\u001b[0m 14ms/step - loss: 0.0737 - sparse_categorical_accuracy: 0.9909 - val_loss: 0.4160 - val_sparse_categorical_accuracy: 0.8690\n",
            "Epoch 9/10\n",
            "\u001b[1m29/32\u001b[0m \u001b[32m━━━━━━━━━━━━━━━━━━\u001b[0m\u001b[37m━━\u001b[0m \u001b[1m0s\u001b[0m 8ms/step - loss: 0.0496 - sparse_categorical_accuracy: 0.9998\n",
            "Epoch 9: saving model to training_1/cp.weights.h5\n",
            "\u001b[1m32/32\u001b[0m \u001b[32m━━━━━━━━━━━━━━━━━━━━\u001b[0m\u001b[37m\u001b[0m \u001b[1m1s\u001b[0m 14ms/step - loss: 0.0497 - sparse_categorical_accuracy: 0.9997 - val_loss: 0.4045 - val_sparse_categorical_accuracy: 0.8730\n",
            "Epoch 10/10\n",
            "\u001b[1m27/32\u001b[0m \u001b[32m━━━━━━━━━━━━━━━━\u001b[0m\u001b[37m━━━━\u001b[0m \u001b[1m0s\u001b[0m 8ms/step - loss: 0.0413 - sparse_categorical_accuracy: 0.9935\n",
            "Epoch 10: saving model to training_1/cp.weights.h5\n",
            "\u001b[1m32/32\u001b[0m \u001b[32m━━━━━━━━━━━━━━━━━━━━\u001b[0m\u001b[37m\u001b[0m \u001b[1m1s\u001b[0m 15ms/step - loss: 0.0410 - sparse_categorical_accuracy: 0.9939 - val_loss: 0.4139 - val_sparse_categorical_accuracy: 0.8690\n"
          ]
        },
        {
          "output_type": "execute_result",
          "data": {
            "text/plain": [
              "<keras.src.callbacks.history.History at 0x7a28593ef490>"
            ]
          },
          "metadata": {},
          "execution_count": 25
        }
      ]
    },
    {
      "cell_type": "code",
      "source": [
        "os.listdir(checkpoint_dir)"
      ],
      "metadata": {
        "colab": {
          "base_uri": "https://localhost:8080/"
        },
        "id": "ngucCV4q8hZU",
        "outputId": "7a4fb4df-04bc-47fe-cd5e-547af519c397"
      },
      "execution_count": 26,
      "outputs": [
        {
          "output_type": "execute_result",
          "data": {
            "text/plain": [
              "['cp.weights.h5']"
            ]
          },
          "metadata": {},
          "execution_count": 26
        }
      ]
    },
    {
      "cell_type": "code",
      "source": [
        "#create a basic model instance\n",
        "model = create_model()\n",
        "\n",
        "#evaluate the model\n",
        "loss, acc = model.evaluate(test_images, test_labels, verbose= 2)\n",
        "print(\"Untrained model, accuracy: {:5.2}%\".format(100*acc))"
      ],
      "metadata": {
        "colab": {
          "base_uri": "https://localhost:8080/"
        },
        "id": "G45gSGCj9NNV",
        "outputId": "e6497386-2548-4e9e-9195-7c472cab991b"
      },
      "execution_count": 27,
      "outputs": [
        {
          "output_type": "stream",
          "name": "stderr",
          "text": [
            "/usr/local/lib/python3.11/dist-packages/keras/src/layers/core/dense.py:87: UserWarning: Do not pass an `input_shape`/`input_dim` argument to a layer. When using Sequential models, prefer using an `Input(shape)` object as the first layer in the model instead.\n",
            "  super().__init__(activity_regularizer=activity_regularizer, **kwargs)\n"
          ]
        },
        {
          "output_type": "stream",
          "name": "stdout",
          "text": [
            "32/32 - 0s - 9ms/step - loss: 2.3715 - sparse_categorical_accuracy: 0.0490\n",
            "Untrained model, accuracy:   4.9%\n"
          ]
        }
      ]
    },
    {
      "cell_type": "code",
      "source": [
        "#load the weights\n",
        "model.load_weights(\"training_1/cp.weights.h5\")\n",
        "\n",
        "\n",
        "#re-evaluate the model\n",
        "loss, acc = model.evaluate(test_images,  test_labels, verbose= 2)\n",
        "print(\"restore model, accuracy: {:5.2f}\".format(100*acc))"
      ],
      "metadata": {
        "colab": {
          "base_uri": "https://localhost:8080/"
        },
        "id": "1LBPYfNy-nVU",
        "outputId": "407a56e4-cbf4-4763-fddb-ab501836b860"
      },
      "execution_count": 29,
      "outputs": [
        {
          "output_type": "stream",
          "name": "stderr",
          "text": [
            "/usr/local/lib/python3.11/dist-packages/keras/src/saving/saving_lib.py:757: UserWarning: Skipping variable loading for optimizer 'adam', because it has 2 variables whereas the saved optimizer has 10 variables. \n",
            "  saveable.load_own_variables(weights_store.get(inner_path))\n"
          ]
        },
        {
          "output_type": "stream",
          "name": "stdout",
          "text": [
            "32/32 - 0s - 4ms/step - loss: 0.4139 - sparse_categorical_accuracy: 0.8690\n",
            "restore model, accuracy: 86.90\n"
          ]
        }
      ]
    },
    {
      "cell_type": "markdown",
      "source": [
        "checkpoint callback options\n"
      ],
      "metadata": {
        "id": "3FpYvnxx_0Q5"
      }
    },
    {
      "cell_type": "code",
      "source": [
        "checkpoint_path = \"training_2/cp-{epoch:0.4d}.ckdt\"\n",
        "checkpoint_dir = os.path.dirname(chechpoint_path)\n",
        "\n",
        "batch_size = 32\n",
        "\n",
        "#calulate the number of batch per epoche\n",
        "\n",
        "import math\n",
        "n_batches = len(train_images) / batch_size\n",
        "n_batch = math.ceil(n_batches)\n",
        "\n",
        "#create a call back\n",
        "checkpoint_path = \"training_2/cp-{epoch:04d}.weights.h5\"  # Corrected file format\n",
        "\n",
        "cp_callback = tf.keras.callbacks.ModelCheckpoint(\n",
        "    filepath=checkpoint_path,\n",
        "    save_weights_only=True,  # Ensure it saves only weights\n",
        "    verbose=1\n",
        ")\n",
        "\n",
        "\n",
        "#create a new model instance\n",
        "model = create_model()\n",
        "\n",
        "#save the weights using'checkpoint_path' format\n",
        "import os\n",
        "\n",
        "# Ensure the directory exists\n",
        "checkpoint_dir = \"training_2/\"\n",
        "os.makedirs(checkpoint_dir, exist_ok=True)  # Create the directory if it doesn't exist\n",
        "\n",
        "# Define checkpoint path correctly\n",
        "checkpoint_path = os.path.join(checkpoint_dir, \"cp-{epoch:04d}.weights.h5\")\n",
        "\n",
        "# Save the weights\n",
        "model.save_weights(checkpoint_path.format(epoch=0))  # Save initial weights\n",
        "\n",
        "\n",
        "#train the model with the new callback\n",
        "model.fit(train_images,\n",
        "          train_labels,\n",
        "          epochs = 50,\n",
        "          batch_size = batch_size,\n",
        "          callbacks = [cp_callback],\n",
        "          validation_data = (test_images, test_labels),\n",
        "          verbose = 0)"
      ],
      "metadata": {
        "colab": {
          "base_uri": "https://localhost:8080/"
        },
        "id": "5CuzTsY0_5sb",
        "outputId": "c7f4bebe-57ae-48a6-8e9f-331224824dc0"
      },
      "execution_count": 34,
      "outputs": [
        {
          "output_type": "stream",
          "name": "stdout",
          "text": [
            "\n",
            "Epoch 1: saving model to training_2/cp-0001.weights.h5\n",
            "\n",
            "Epoch 2: saving model to training_2/cp-0002.weights.h5\n",
            "\n",
            "Epoch 3: saving model to training_2/cp-0003.weights.h5\n",
            "\n",
            "Epoch 4: saving model to training_2/cp-0004.weights.h5\n",
            "\n",
            "Epoch 5: saving model to training_2/cp-0005.weights.h5\n",
            "\n",
            "Epoch 6: saving model to training_2/cp-0006.weights.h5\n",
            "\n",
            "Epoch 7: saving model to training_2/cp-0007.weights.h5\n",
            "\n",
            "Epoch 8: saving model to training_2/cp-0008.weights.h5\n",
            "\n",
            "Epoch 9: saving model to training_2/cp-0009.weights.h5\n",
            "\n",
            "Epoch 10: saving model to training_2/cp-0010.weights.h5\n",
            "\n",
            "Epoch 11: saving model to training_2/cp-0011.weights.h5\n",
            "\n",
            "Epoch 12: saving model to training_2/cp-0012.weights.h5\n",
            "\n",
            "Epoch 13: saving model to training_2/cp-0013.weights.h5\n",
            "\n",
            "Epoch 14: saving model to training_2/cp-0014.weights.h5\n",
            "\n",
            "Epoch 15: saving model to training_2/cp-0015.weights.h5\n",
            "\n",
            "Epoch 16: saving model to training_2/cp-0016.weights.h5\n",
            "\n",
            "Epoch 17: saving model to training_2/cp-0017.weights.h5\n",
            "\n",
            "Epoch 18: saving model to training_2/cp-0018.weights.h5\n",
            "\n",
            "Epoch 19: saving model to training_2/cp-0019.weights.h5\n",
            "\n",
            "Epoch 20: saving model to training_2/cp-0020.weights.h5\n",
            "\n",
            "Epoch 21: saving model to training_2/cp-0021.weights.h5\n",
            "\n",
            "Epoch 22: saving model to training_2/cp-0022.weights.h5\n",
            "\n",
            "Epoch 23: saving model to training_2/cp-0023.weights.h5\n",
            "\n",
            "Epoch 24: saving model to training_2/cp-0024.weights.h5\n",
            "\n",
            "Epoch 25: saving model to training_2/cp-0025.weights.h5\n",
            "\n",
            "Epoch 26: saving model to training_2/cp-0026.weights.h5\n",
            "\n",
            "Epoch 27: saving model to training_2/cp-0027.weights.h5\n",
            "\n",
            "Epoch 28: saving model to training_2/cp-0028.weights.h5\n",
            "\n",
            "Epoch 29: saving model to training_2/cp-0029.weights.h5\n",
            "\n",
            "Epoch 30: saving model to training_2/cp-0030.weights.h5\n",
            "\n",
            "Epoch 31: saving model to training_2/cp-0031.weights.h5\n",
            "\n",
            "Epoch 32: saving model to training_2/cp-0032.weights.h5\n",
            "\n",
            "Epoch 33: saving model to training_2/cp-0033.weights.h5\n",
            "\n",
            "Epoch 34: saving model to training_2/cp-0034.weights.h5\n",
            "\n",
            "Epoch 35: saving model to training_2/cp-0035.weights.h5\n",
            "\n",
            "Epoch 36: saving model to training_2/cp-0036.weights.h5\n",
            "\n",
            "Epoch 37: saving model to training_2/cp-0037.weights.h5\n",
            "\n",
            "Epoch 38: saving model to training_2/cp-0038.weights.h5\n",
            "\n",
            "Epoch 39: saving model to training_2/cp-0039.weights.h5\n",
            "\n",
            "Epoch 40: saving model to training_2/cp-0040.weights.h5\n",
            "\n",
            "Epoch 41: saving model to training_2/cp-0041.weights.h5\n",
            "\n",
            "Epoch 42: saving model to training_2/cp-0042.weights.h5\n",
            "\n",
            "Epoch 43: saving model to training_2/cp-0043.weights.h5\n",
            "\n",
            "Epoch 44: saving model to training_2/cp-0044.weights.h5\n",
            "\n",
            "Epoch 45: saving model to training_2/cp-0045.weights.h5\n",
            "\n",
            "Epoch 46: saving model to training_2/cp-0046.weights.h5\n",
            "\n",
            "Epoch 47: saving model to training_2/cp-0047.weights.h5\n",
            "\n",
            "Epoch 48: saving model to training_2/cp-0048.weights.h5\n",
            "\n",
            "Epoch 49: saving model to training_2/cp-0049.weights.h5\n",
            "\n",
            "Epoch 50: saving model to training_2/cp-0050.weights.h5\n"
          ]
        },
        {
          "output_type": "execute_result",
          "data": {
            "text/plain": [
              "<keras.src.callbacks.history.History at 0x7a285d0b3350>"
            ]
          },
          "metadata": {},
          "execution_count": 34
        }
      ]
    },
    {
      "cell_type": "markdown",
      "source": [
        "Now, review the resulting checkpoints and choose the latest one:"
      ],
      "metadata": {
        "id": "bcRLCPSSHZCg"
      }
    },
    {
      "cell_type": "code",
      "source": [
        "os.listdir(checkpoint_dir)"
      ],
      "metadata": {
        "colab": {
          "base_uri": "https://localhost:8080/"
        },
        "id": "PDThW6S6HZ69",
        "outputId": "06e53beb-9270-4913-8edb-44d40468dbc1"
      },
      "execution_count": 35,
      "outputs": [
        {
          "output_type": "execute_result",
          "data": {
            "text/plain": [
              "['cp-0007.weights.h5',\n",
              " 'cp-0024.weights.h5',\n",
              " 'cp-0034.weights.h5',\n",
              " 'cp-0019.weights.h5',\n",
              " 'cp-0043.weights.h5',\n",
              " 'cp-0026.weights.h5',\n",
              " 'cp-0009.weights.h5',\n",
              " 'cp-0027.weights.h5',\n",
              " 'cp-0045.weights.h5',\n",
              " 'cp-0028.weights.h5',\n",
              " 'cp-0049.weights.h5',\n",
              " 'cp-0040.weights.h5',\n",
              " 'cp-0017.weights.h5',\n",
              " 'cp-0002.weights.h5',\n",
              " 'cp-0046.weights.h5',\n",
              " 'cp-0050.weights.h5',\n",
              " 'cp-0022.weights.h5',\n",
              " 'cp-0047.weights.h5',\n",
              " 'cp-0030.weights.h5',\n",
              " 'cp-0010.weights.h5',\n",
              " 'cp-0018.weights.h5',\n",
              " 'cp-0013.weights.h5',\n",
              " 'cp-0023.weights.h5',\n",
              " 'cp-0001.weights.h5',\n",
              " 'cp-0038.weights.h5',\n",
              " 'cp-0044.weights.h5',\n",
              " 'cp-0037.weights.h5',\n",
              " 'cp-0014.weights.h5',\n",
              " 'cp-0025.weights.h5',\n",
              " 'cp-0021.weights.h5',\n",
              " 'cp-0036.weights.h5',\n",
              " 'cp-0004.weights.h5',\n",
              " 'cp-0033.weights.h5',\n",
              " 'cp-0041.weights.h5',\n",
              " 'cp-0042.weights.h5',\n",
              " 'cp-0003.weights.h5',\n",
              " 'cp-0039.weights.h5',\n",
              " 'cp-0011.weights.h5',\n",
              " 'cp-0048.weights.h5',\n",
              " 'cp-0015.weights.h5',\n",
              " 'cp-0020.weights.h5',\n",
              " 'cp-0016.weights.h5',\n",
              " 'cp-0035.weights.h5',\n",
              " 'cp-0000.weights.h5',\n",
              " 'cp-0008.weights.h5',\n",
              " 'cp-0006.weights.h5',\n",
              " 'cp-0005.weights.h5',\n",
              " 'cp-0029.weights.h5',\n",
              " 'cp-0031.weights.h5',\n",
              " 'cp-0032.weights.h5',\n",
              " 'cp-0012.weights.h5']"
            ]
          },
          "metadata": {},
          "execution_count": 35
        }
      ]
    },
    {
      "cell_type": "code",
      "source": [
        "latest = tf.train.latest_checkpoint(checkpoint_dir)\n",
        "latest"
      ],
      "metadata": {
        "id": "ZRJYjmALHvwU"
      },
      "execution_count": 36,
      "outputs": []
    },
    {
      "cell_type": "code",
      "source": [
        "# Create a new model instance\n",
        "model = create_model()\n",
        "\n",
        "# Load the previously saved weights\n",
        "model.load_weights(latest)\n",
        "\n",
        "# Re-evaluate the model\n",
        "loss, acc = model.evaluate(test_images, test_labels, verbose=2)\n",
        "print(\"Restored model, accuracy: {:5.2f}%\".format(100 * acc))"
      ],
      "metadata": {
        "colab": {
          "base_uri": "https://localhost:8080/",
          "height": 356
        },
        "id": "yVFpln7zJQM0",
        "outputId": "95eba699-c7e9-496a-8439-252e40eeecb6"
      },
      "execution_count": 38,
      "outputs": [
        {
          "output_type": "error",
          "ename": "ValueError",
          "evalue": "File format not supported: filepath=None. Keras 3 only supports V3 `.keras` and `.weights.h5` files, or legacy V1/V2 `.h5` files.",
          "traceback": [
            "\u001b[0;31m---------------------------------------------------------------------------\u001b[0m",
            "\u001b[0;31mValueError\u001b[0m                                Traceback (most recent call last)",
            "\u001b[0;32m<ipython-input-38-7b3278f58332>\u001b[0m in \u001b[0;36m<cell line: 0>\u001b[0;34m()\u001b[0m\n\u001b[1;32m      3\u001b[0m \u001b[0;34m\u001b[0m\u001b[0m\n\u001b[1;32m      4\u001b[0m \u001b[0;31m# Load the previously saved weights\u001b[0m\u001b[0;34m\u001b[0m\u001b[0;34m\u001b[0m\u001b[0m\n\u001b[0;32m----> 5\u001b[0;31m \u001b[0mmodel\u001b[0m\u001b[0;34m.\u001b[0m\u001b[0mload_weights\u001b[0m\u001b[0;34m(\u001b[0m\u001b[0mlatest\u001b[0m\u001b[0;34m)\u001b[0m\u001b[0;34m\u001b[0m\u001b[0;34m\u001b[0m\u001b[0m\n\u001b[0m\u001b[1;32m      6\u001b[0m \u001b[0;34m\u001b[0m\u001b[0m\n\u001b[1;32m      7\u001b[0m \u001b[0;31m# Re-evaluate the model\u001b[0m\u001b[0;34m\u001b[0m\u001b[0;34m\u001b[0m\u001b[0m\n",
            "\u001b[0;32m/usr/local/lib/python3.11/dist-packages/keras/src/utils/traceback_utils.py\u001b[0m in \u001b[0;36merror_handler\u001b[0;34m(*args, **kwargs)\u001b[0m\n\u001b[1;32m    120\u001b[0m             \u001b[0;31m# To get the full stack trace, call:\u001b[0m\u001b[0;34m\u001b[0m\u001b[0;34m\u001b[0m\u001b[0m\n\u001b[1;32m    121\u001b[0m             \u001b[0;31m# `keras.config.disable_traceback_filtering()`\u001b[0m\u001b[0;34m\u001b[0m\u001b[0;34m\u001b[0m\u001b[0m\n\u001b[0;32m--> 122\u001b[0;31m             \u001b[0;32mraise\u001b[0m \u001b[0me\u001b[0m\u001b[0;34m.\u001b[0m\u001b[0mwith_traceback\u001b[0m\u001b[0;34m(\u001b[0m\u001b[0mfiltered_tb\u001b[0m\u001b[0;34m)\u001b[0m \u001b[0;32mfrom\u001b[0m \u001b[0;32mNone\u001b[0m\u001b[0;34m\u001b[0m\u001b[0;34m\u001b[0m\u001b[0m\n\u001b[0m\u001b[1;32m    123\u001b[0m         \u001b[0;32mfinally\u001b[0m\u001b[0;34m:\u001b[0m\u001b[0;34m\u001b[0m\u001b[0;34m\u001b[0m\u001b[0m\n\u001b[1;32m    124\u001b[0m             \u001b[0;32mdel\u001b[0m \u001b[0mfiltered_tb\u001b[0m\u001b[0;34m\u001b[0m\u001b[0;34m\u001b[0m\u001b[0m\n",
            "\u001b[0;32m/usr/local/lib/python3.11/dist-packages/keras/src/saving/saving_api.py\u001b[0m in \u001b[0;36mload_weights\u001b[0;34m(model, filepath, skip_mismatch, **kwargs)\u001b[0m\n\u001b[1;32m    273\u001b[0m                 \u001b[0mlegacy_h5_format\u001b[0m\u001b[0;34m.\u001b[0m\u001b[0mload_weights_from_hdf5_group\u001b[0m\u001b[0;34m(\u001b[0m\u001b[0mf\u001b[0m\u001b[0;34m,\u001b[0m \u001b[0mmodel\u001b[0m\u001b[0;34m)\u001b[0m\u001b[0;34m\u001b[0m\u001b[0;34m\u001b[0m\u001b[0m\n\u001b[1;32m    274\u001b[0m     \u001b[0;32melse\u001b[0m\u001b[0;34m:\u001b[0m\u001b[0;34m\u001b[0m\u001b[0;34m\u001b[0m\u001b[0m\n\u001b[0;32m--> 275\u001b[0;31m         raise ValueError(\n\u001b[0m\u001b[1;32m    276\u001b[0m             \u001b[0;34mf\"File format not supported: filepath={filepath}. \"\u001b[0m\u001b[0;34m\u001b[0m\u001b[0;34m\u001b[0m\u001b[0m\n\u001b[1;32m    277\u001b[0m             \u001b[0;34m\"Keras 3 only supports V3 `.keras` and `.weights.h5` \"\u001b[0m\u001b[0;34m\u001b[0m\u001b[0;34m\u001b[0m\u001b[0m\n",
            "\u001b[0;31mValueError\u001b[0m: File format not supported: filepath=None. Keras 3 only supports V3 `.keras` and `.weights.h5` files, or legacy V1/V2 `.h5` files."
          ]
        }
      ]
    }
  ],
  "metadata": {
    "kernelspec": {
      "display_name": "base",
      "language": "python",
      "name": "python3"
    },
    "language_info": {
      "codemirror_mode": {
        "name": "ipython",
        "version": 3
      },
      "file_extension": ".py",
      "mimetype": "text/x-python",
      "name": "python",
      "nbconvert_exporter": "python",
      "pygments_lexer": "ipython3",
      "version": "3.12.4"
    },
    "colab": {
      "provenance": [],
      "include_colab_link": true
    }
  },
  "nbformat": 4,
  "nbformat_minor": 0
}